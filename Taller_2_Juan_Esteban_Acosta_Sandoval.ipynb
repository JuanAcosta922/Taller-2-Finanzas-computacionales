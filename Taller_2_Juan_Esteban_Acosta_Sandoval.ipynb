{
  "nbformat": 4,
  "nbformat_minor": 0,
  "metadata": {
    "colab": {
      "provenance": [],
      "collapsed_sections": []
    },
    "kernelspec": {
      "name": "python3",
      "display_name": "Python 3"
    },
    "language_info": {
      "name": "python"
    }
  },
  "cells": [
    {
      "cell_type": "markdown",
      "source": [
        "# Taller #2\n",
        "# Juan Esteban Acosta \n",
        "# Finanzas Computacionales\n"
      ],
      "metadata": {
        "id": "-X94dU-1bXSZ"
      }
    },
    {
      "cell_type": "code",
      "source": [
        "import numpy as np\n",
        "import pandas as pd\n",
        "import matplotlib.pyplot as plt\n",
        "import cvxpy as cp\n",
        "from scipy import stats\n",
        "%pip install yfinance\n",
        "import yfinance as yf\n",
        "import warnings\n",
        "from scipy.optimize import linprog"
      ],
      "metadata": {
        "colab": {
          "base_uri": "https://localhost:8080/"
        },
        "id": "g8MLh3i2cejm",
        "outputId": "8aa8155c-41ae-456c-e948-463b9a9b36ac"
      },
      "execution_count": 19,
      "outputs": [
        {
          "output_type": "stream",
          "name": "stdout",
          "text": [
            "Looking in indexes: https://pypi.org/simple, https://us-python.pkg.dev/colab-wheels/public/simple/\n",
            "Requirement already satisfied: yfinance in /usr/local/lib/python3.7/dist-packages (0.1.74)\n",
            "Requirement already satisfied: pandas>=0.24.0 in /usr/local/lib/python3.7/dist-packages (from yfinance) (1.3.5)\n",
            "Requirement already satisfied: requests>=2.26 in /usr/local/lib/python3.7/dist-packages (from yfinance) (2.28.1)\n",
            "Requirement already satisfied: numpy>=1.15 in /usr/local/lib/python3.7/dist-packages (from yfinance) (1.21.6)\n",
            "Requirement already satisfied: multitasking>=0.0.7 in /usr/local/lib/python3.7/dist-packages (from yfinance) (0.0.11)\n",
            "Requirement already satisfied: lxml>=4.5.1 in /usr/local/lib/python3.7/dist-packages (from yfinance) (4.9.1)\n",
            "Requirement already satisfied: python-dateutil>=2.7.3 in /usr/local/lib/python3.7/dist-packages (from pandas>=0.24.0->yfinance) (2.8.2)\n",
            "Requirement already satisfied: pytz>=2017.3 in /usr/local/lib/python3.7/dist-packages (from pandas>=0.24.0->yfinance) (2022.2.1)\n",
            "Requirement already satisfied: six>=1.5 in /usr/local/lib/python3.7/dist-packages (from python-dateutil>=2.7.3->pandas>=0.24.0->yfinance) (1.15.0)\n",
            "Requirement already satisfied: charset-normalizer<3,>=2 in /usr/local/lib/python3.7/dist-packages (from requests>=2.26->yfinance) (2.1.1)\n",
            "Requirement already satisfied: idna<4,>=2.5 in /usr/local/lib/python3.7/dist-packages (from requests>=2.26->yfinance) (2.10)\n",
            "Requirement already satisfied: urllib3<1.27,>=1.21.1 in /usr/local/lib/python3.7/dist-packages (from requests>=2.26->yfinance) (1.24.3)\n",
            "Requirement already satisfied: certifi>=2017.4.17 in /usr/local/lib/python3.7/dist-packages (from requests>=2.26->yfinance) (2022.6.15)\n"
          ]
        }
      ]
    },
    {
      "cell_type": "markdown",
      "source": [
        "# Punto 1\n",
        "Dibujar la región factible el siguiente problema de programación lineal (LP) con dos\n",
        "variables:\n",
        "\n",
        "máx 2 x1 − x2\n",
        "x1 + x2 ≥ 1\n",
        "x1 − x2 ≤ 0\n",
        "3 x1 + x2 ≤ 6\n",
        "x1, x2 ≥ 0"
      ],
      "metadata": {
        "id": "MBAjKXCkfNGn"
      }
    },
    {
      "cell_type": "code",
      "source": [
        "fig, ax = plt.subplots(figsize=(8, 6))\n",
        "ax.grid()\n",
        "\n",
        "# Lineas de restricción\n",
        "ax.hlines(0, -1, 5)\n",
        "ax.vlines(0, -1, 8)\n",
        "ax.plot(np.linspace(-1, 5, 100), 1-1*np.linspace(-1, 5, 100), color=\"b\")\n",
        "ax.plot(np.linspace(-1, 5, 100), np.linspace(-1, 5, 100), color=\"b\")\n",
        "ax.plot(np.linspace(-1, 5, 100), 6-3*np.linspace(-1, 5, 100), color=\"b\")\n",
        "ax.text(5, -3, \"$x_1 + x_2 \\geq 1$\", size=12)\n",
        "ax.text(5, 5, \"$x_1 - x_2 \\leq 0$\", size=12)\n",
        "ax.text(-1.25, 10, \"$3x_1 + x_2 \\leq 6$\", size=12)\n",
        "ax.text(0.25, -1.5, \"$x_1 \\geq 0$\", size=12) \n",
        "ax.text(-0.75, 2.5, \"$x_2 \\geq 0$\", size=12) \n",
        "\n",
        "# Región Factible\n",
        "feasible_set = Polygon(np.array([[0, 1], \n",
        "                                 [0.5, 0.5], \n",
        "                                 [1.5, 1.5], \n",
        "                                 [0, 6]]), \n",
        "                       color=\"red\")\n",
        "ax.add_patch(feasible_set)\n",
        "\n",
        "\n",
        "# Punto óptimo\n",
        "ax.plot(1.5, 1.5, \"*\", color=\"blue\")\n",
        "ax.text(1.5, 1.5, \"Punto Óptimo\", size=12)\n",
        "\n",
        "plt.show()"
      ],
      "metadata": {
        "colab": {
          "base_uri": "https://localhost:8080/",
          "height": 605
        },
        "id": "Q6dkaYIwe0sq",
        "outputId": "f283ccb0-5a37-4d84-ee1b-f903996c8cb3"
      },
      "execution_count": 34,
      "outputs": [
        {
          "output_type": "error",
          "ename": "NameError",
          "evalue": "ignored",
          "traceback": [
            "\u001b[0;31m---------------------------------------------------------------------------\u001b[0m",
            "\u001b[0;31mNameError\u001b[0m                                 Traceback (most recent call last)",
            "\u001b[0;32m<ipython-input-34-1c0f601a86ff>\u001b[0m in \u001b[0;36m<module>\u001b[0;34m\u001b[0m\n\u001b[1;32m     15\u001b[0m \u001b[0;34m\u001b[0m\u001b[0m\n\u001b[1;32m     16\u001b[0m \u001b[0;31m# Región Factible\u001b[0m\u001b[0;34m\u001b[0m\u001b[0;34m\u001b[0m\u001b[0;34m\u001b[0m\u001b[0m\n\u001b[0;32m---> 17\u001b[0;31m feasible_set = Polygon(np.array([[0, 1], \n\u001b[0m\u001b[1;32m     18\u001b[0m                                  \u001b[0;34m[\u001b[0m\u001b[0;36m0.5\u001b[0m\u001b[0;34m,\u001b[0m \u001b[0;36m0.5\u001b[0m\u001b[0;34m]\u001b[0m\u001b[0;34m,\u001b[0m\u001b[0;34m\u001b[0m\u001b[0;34m\u001b[0m\u001b[0m\n\u001b[1;32m     19\u001b[0m                                  \u001b[0;34m[\u001b[0m\u001b[0;36m1.5\u001b[0m\u001b[0;34m,\u001b[0m \u001b[0;36m1.5\u001b[0m\u001b[0;34m]\u001b[0m\u001b[0;34m,\u001b[0m\u001b[0;34m\u001b[0m\u001b[0;34m\u001b[0m\u001b[0m\n",
            "\u001b[0;31mNameError\u001b[0m: name 'Polygon' is not defined"
          ]
        },
        {
          "output_type": "display_data",
          "data": {
            "text/plain": [
              "<Figure size 576x432 with 1 Axes>"
            ],
            "image/png": "[encoded data removed]"
          },
          "metadata": {
            "needs_background": "light"
          }
        }
      ]
    },
    {
      "cell_type": "markdown",
      "source": [
        "# Punto 2\n",
        "Usted desea invertir la suma de $80 millones en cuatro fondos mutuos que tienen\n",
        "diferentes retornos esperados (E(Ri\n",
        "\n",
        ")), así como diferentes ponderaciones en acciones de\n",
        "\n",
        "capitalización grande, mediana y pequeña, como muestra la siguiente tabla:\n",
        "Capitalización Fondo 1 Fondo 2 Fondo 3 Fondo 4\n",
        "Grande 50% 30% 25% 60%\n",
        "Mediana 30% 10% 40% 20%\n",
        "Pequeña 20% 60% 35% 20%\n",
        "E(Ri\n",
        ") 10% 15% 16% 8%\n",
        "\n",
        "La asignación anterior debe contener al menos un 35 % de acciones de gran capitalización,\n",
        "un 30% de mediana capitalización y un 15% de acciones de pequeña capitalización.\n",
        "Encuentre una asignación factible con el retorno esperado más alto, bajo el supuesto de que\n",
        "solo se le permite mantener posiciones largas en los fondos. Para ello, formule y resuelva el\n",
        "problema de programación lineal, bajo las siguientes restricciones:\n",
        "0.5 x1 + 0.3 x2 + 0.25 x3 + 0.6 x4 ≥ 0.35 × $80 (Cap. Grande)\n",
        "0.3 x1 + 0.1 x2 + 0.4 x3 + 0.2 x4 ≥ 0.30 × $80 (Cap. Mediana)\n",
        "0.2 x1 + 0.6 x2 + 0.35 x3 + 0.2 x4 ≥ 0.15 × $80 (Cap. pequeña)\n",
        "\n",
        "x1 + x2 + x3 + x4 = $80\n",
        "x1, x2, x3, x4 ≥ 0\n",
        "\n",
        "Nota: resuelva el problema anterior usando las librerías de Linprog y CVXPY de Python.\n",
        "Además, construya un archivo de Excel para comparar los resultados."
      ],
      "metadata": {
        "id": "abA83eyHfP5s"
      }
    },
    {
      "cell_type": "code",
      "source": [
        "\n",
        "c = np.array([0.1,0.15,0.16,0.08])\n",
        "A = np.array([[1,1,1,1]])\n",
        "b = np.array([80])\n",
        "\n",
        "D = np.array([[0.5,0.3,0.25,0.6],\n",
        "              [0.3,0.1,0.4,0.2],\n",
        "              [0.2,0.6,0.35,0.2]])\n",
        "d = np.array([28,24,12])\n",
        "\n",
        "resultado = linprog(-c,A_ub=-D,b_ub=-d,A_eq=A,b_eq=b, method='simplex')\n",
        "resultado\n",
        "#x.value\n"
      ],
      "metadata": {
        "colab": {
          "base_uri": "https://localhost:8080/"
        },
        "id": "ei00lBWAbiCm",
        "outputId": "fdcc938b-d383-41ae-97a5-11f760620ecf"
      },
      "execution_count": 21,
      "outputs": [
        {
          "output_type": "execute_result",
          "data": {
            "text/plain": [
              "     con: array([0.])\n",
              "     fun: -10.989473684210527\n",
              " message: 'Optimization terminated successfully.'\n",
              "     nit: 7\n",
              "   slack: array([-3.55271368e-15, -3.55271368e-15,  1.60000000e+01])\n",
              "  status: 0\n",
              " success: True\n",
              "       x: array([ 0.        , 12.63157895, 46.31578947, 21.05263158])"
            ]
          },
          "metadata": {},
          "execution_count": 21
        }
      ]
    },
    {
      "cell_type": "markdown",
      "source": [
        "# Punto 3\n",
        "La empresa XYZ se enfrente al siguiente problema de financiación a corto plazo. Las\n",
        "cifras están expresadas en millones ($).\n",
        "\n",
        "1 2 3 4 5 6\n",
        "Mes Ene Feb Mar Abr May Jun\n",
        "FC neto -150 -100 200 -200 50 300\n",
        "Además, se sabe que la empresa cuenta con las siguientes fuentes de recursos:\n",
        "• Una línea de crédito de hasta $100 a una tasa de interés del 1% mensual.\n",
        "• Puede emitir papel comercial a 90 días con un interés total del 2% por un período de\n",
        "3 meses.\n",
        "• Todos los meses se pueden invertir los fondos sobrantes a una tasa de interés del\n",
        "0,3% mensual. Por ejemplo, la empresa podría hacer un depósito bancario que le\n",
        "reconoce esa tasa.\n",
        "\n",
        "Sobre este problema, la empresa desea saber si: ¿usar la línea de crédito en algunos de los\n",
        "meses le representa un alto costo? si es así ¿cuándo debería usarla? ¿cuánto cuesta? ¿qué\n",
        "pagos de intereses tendrá que hacer entre enero y junio? etc... Para responder a estos\n",
        "interrogantes, la empresa puede formular y resolver un problema LP de forma rápida y\n",
        "sencilla. Para la formulación del problema de LP, tenga en cuenta:\n",
        "Variables:\n",
        "xj\n",
        ": monto dispuesto a pedir en la línea de crédito en el mes j, para j = 1,2,3,4,5.\n",
        "yj\n",
        ": monto emitido en el papel comercial en el mes j, para j = 1,2,3.\n",
        "zj\n",
        ": exceso de fondos (FC) en el mes j, para j = 1,2,3,4,5,6.\n",
        "Objetivo: Maximizar el exceso de fondos (FC) en el mes 6 (Jun):\n",
        "\n",
        "máx z6\n",
        "\n",
        "Restricciones: Restricciones de saldo de caja en cada mes y límites en xj\n",
        ", yj y zj\n",
        ".\n",
        "\n",
        "x1 + y1 − z1 = 150\n",
        "x2 + y2 −1.01 x1 + 1.003 z1 − z2 = 100\n",
        "x3 + y3 −1.01 x2 + 1.003 z2 − z3 = −200\n",
        "x4 − 1.02 y1 −1.01 x3 + 1.003 z3 − z4 = 200\n",
        "x5 − 1.02 y2 −1.01 x4 + 1.003 z4 − z5 = −50\n",
        "−1.02 y3 −1.01 x5 + 1.003 z5 − z6 = −300\n",
        "\n",
        "xj ≤ 100 para j = 1,2,3,4,5\n",
        "xj ≥ 0 para j = 1,2,3,4,5\n",
        "yj ≥ 0 para j = 1,2,3.\n",
        "zj ≥ 0 para j = 1,2,3,4,5\n",
        "\n",
        "Nota: resuelva el problema anterior usando las librerías de Linprog y CVXPY de Python.\n",
        "Además, construya un archivo de Excel para comparar los resultados."
      ],
      "metadata": {
        "id": "Ql4UqKkVfbGO"
      }
    },
    {
      "cell_type": "code",
      "source": [
        "#Construcción de vectores\n",
        "b = np.array([150, 100, -200, 200, -50, -300])\n",
        "c = np.array([0,0,0,0,0,0,0,0,0,0,0,0,0,1]) #Función objetivo\n",
        "rx = np.array([1.01])  #tasa del crédito\n",
        "ry = np.array([1.02]) #Tasa del bono\n",
        "rz = np.array([1.003]) #Tasa excedente\n",
        "A = np.array([[1,0,0,0,0, 1,0,0, -1,0,0,0,0,0],\n",
        "              [-rx,1,0,0,0, 0,1,0, rz,-1,0,0,0,0],\n",
        "              [0,-rx,1,0,0, 0,0,1, 0,rz,-1,0,0,0],\n",
        "              [0,0,-rx,1,0, -ry,0,0, 0,0,rz,-1,0,0],\n",
        "              [0,0,0,-rx,1, 0,-ry,0, 0,0,0,rz,-1,0],\n",
        "              [0,0,0,0,-rx, 0,0,-ry, 0,0,0,0,rz,-1]])\n",
        "\n",
        "#Solución con cvxpy\n",
        "n = len(c) # # de elementos que requiere el vector c\n",
        "x = cp.Variable(n) #Mismo tamaño de c porque se debe operar x con c\n",
        "\n",
        "objective = cp.Maximize(c.T @ x )\n",
        "constraints = [A @ x == b, x>=0]\n",
        "prob = cp.Problem(objective, constraints)\n",
        "\n",
        "# The optimal objective value is returned by `prob.solve()`.\n",
        "result = prob.solve()\n",
        "# The optimal value for x is stored in `x.value`.\n",
        "sol = round(pd.DataFrame(x.value),6)\n",
        "sol\n"
      ],
      "metadata": {
        "colab": {
          "base_uri": "https://localhost:8080/",
          "height": 543
        },
        "id": "DiEXxj3hfDs7",
        "outputId": "5d832951-f1c2-4dba-fcd0-9fd9c4a27a7b"
      },
      "execution_count": 22,
      "outputs": [
        {
          "output_type": "stream",
          "name": "stderr",
          "text": [
            "/usr/local/lib/python3.7/dist-packages/ipykernel_launcher.py:12: VisibleDeprecationWarning: Creating an ndarray from ragged nested sequences (which is a list-or-tuple of lists-or-tuples-or ndarrays with different lengths or shapes) is deprecated. If you meant to do this, you must specify 'dtype=object' when creating the ndarray.\n",
            "  if sys.path[0] == '':\n"
          ]
        },
        {
          "output_type": "execute_result",
          "data": {
            "text/plain": [
              "             0\n",
              "0     0.000001\n",
              "1    42.686747\n",
              "2     0.000000\n",
              "3     0.000000\n",
              "4     8.459517\n",
              "5   150.000000\n",
              "6    57.313253\n",
              "7   195.057783\n",
              "8     0.000001\n",
              "9     0.000000\n",
              "10  351.944169\n",
              "11    0.000001\n",
              "12    0.000000\n",
              "13   92.496949"
            ],
            "text/html": [
              "\n",
              "  <div id=\"df-c42d83c8-0006-4e69-8eac-8d2d65629dce\">\n",
              "    <div class=\"colab-df-container\">\n",
              "      <div>\n",
              "<style scoped>\n",
              "    .dataframe tbody tr th:only-of-type {\n",
              "        vertical-align: middle;\n",
              "    }\n",
              "\n",
              "    .dataframe tbody tr th {\n",
              "        vertical-align: top;\n",
              "    }\n",
              "\n",
              "    .dataframe thead th {\n",
              "        text-align: right;\n",
              "    }\n",
              "</style>\n",
              "<table border=\"1\" class=\"dataframe\">\n",
              "  <thead>\n",
              "    <tr style=\"text-align: right;\">\n",
              "      <th></th>\n",
              "      <th>0</th>\n",
              "    </tr>\n",
              "  </thead>\n",
              "  <tbody>\n",
              "    <tr>\n",
              "      <th>0</th>\n",
              "      <td>0.000001</td>\n",
              "    </tr>\n",
              "    <tr>\n",
              "      <th>1</th>\n",
              "      <td>42.686747</td>\n",
              "    </tr>\n",
              "    <tr>\n",
              "      <th>2</th>\n",
              "      <td>0.000000</td>\n",
              "    </tr>\n",
              "    <tr>\n",
              "      <th>3</th>\n",
              "      <td>0.000000</td>\n",
              "    </tr>\n",
              "    <tr>\n",
              "      <th>4</th>\n",
              "      <td>8.459517</td>\n",
              "    </tr>\n",
              "    <tr>\n",
              "      <th>5</th>\n",
              "      <td>150.000000</td>\n",
              "    </tr>\n",
              "    <tr>\n",
              "      <th>6</th>\n",
              "      <td>57.313253</td>\n",
              "    </tr>\n",
              "    <tr>\n",
              "      <th>7</th>\n",
              "      <td>195.057783</td>\n",
              "    </tr>\n",
              "    <tr>\n",
              "      <th>8</th>\n",
              "      <td>0.000001</td>\n",
              "    </tr>\n",
              "    <tr>\n",
              "      <th>9</th>\n",
              "      <td>0.000000</td>\n",
              "    </tr>\n",
              "    <tr>\n",
              "      <th>10</th>\n",
              "      <td>351.944169</td>\n",
              "    </tr>\n",
              "    <tr>\n",
              "      <th>11</th>\n",
              "      <td>0.000001</td>\n",
              "    </tr>\n",
              "    <tr>\n",
              "      <th>12</th>\n",
              "      <td>0.000000</td>\n",
              "    </tr>\n",
              "    <tr>\n",
              "      <th>13</th>\n",
              "      <td>92.496949</td>\n",
              "    </tr>\n",
              "  </tbody>\n",
              "</table>\n",
              "</div>\n",
              "      <button class=\"colab-df-convert\" onclick=\"convertToInteractive('df-c42d83c8-0006-4e69-8eac-8d2d65629dce')\"\n",
              "              title=\"Convert this dataframe to an interactive table.\"\n",
              "              style=\"display:none;\">\n",
              "        \n",
              "  <svg xmlns=\"http://www.w3.org/2000/svg\" height=\"24px\"viewBox=\"0 0 24 24\"\n",
              "       width=\"24px\">\n",
              "    <path d=\"M0 0h24v24H0V0z\" fill=\"none\"/>\n",
              "    <path d=\"M18.56 5.44l.94 2.06.94-2.06 2.06-.94-2.06-.94-.94-2.06-.94 2.06-2.06.94zm-11 1L8.5 8.5l.94-2.06 2.06-.94-2.06-.94L8.5 2.5l-.94 2.06-2.06.94zm10 10l.94 2.06.94-2.06 2.06-.94-2.06-.94-.94-2.06-.94 2.06-2.06.94z\"/><path d=\"M17.41 7.96l-1.37-1.37c-.4-.4-.92-.59-1.43-.59-.52 0-1.04.2-1.43.59L10.3 9.45l-7.72 7.72c-.78.78-.78 2.05 0 2.83L4 21.41c.39.39.9.59 1.41.59.51 0 1.02-.2 1.41-.59l7.78-7.78 2.81-2.81c.8-.78.8-2.07 0-2.86zM5.41 20L4 18.59l7.72-7.72 1.47 1.35L5.41 20z\"/>\n",
              "  </svg>\n",
              "      </button>\n",
              "      \n",
              "  <style>\n",
              "    .colab-df-container {\n",
              "      display:flex;\n",
              "      flex-wrap:wrap;\n",
              "      gap: 12px;\n",
              "    }\n",
              "\n",
              "    .colab-df-convert {\n",
              "      background-color: #E8F0FE;\n",
              "      border: none;\n",
              "      border-radius: 50%;\n",
              "      cursor: pointer;\n",
              "      display: none;\n",
              "      fill: #1967D2;\n",
              "      height: 32px;\n",
              "      padding: 0 0 0 0;\n",
              "      width: 32px;\n",
              "    }\n",
              "\n",
              "    .colab-df-convert:hover {\n",
              "      background-color: #E2EBFA;\n",
              "      box-shadow: 0px 1px 2px rgba(60, 64, 67, 0.3), 0px 1px 3px 1px rgba(60, 64, 67, 0.15);\n",
              "      fill: #174EA6;\n",
              "    }\n",
              "\n",
              "    [theme=dark] .colab-df-convert {\n",
              "      background-color: #3B4455;\n",
              "      fill: #D2E3FC;\n",
              "    }\n",
              "\n",
              "    [theme=dark] .colab-df-convert:hover {\n",
              "      background-color: #434B5C;\n",
              "      box-shadow: 0px 1px 3px 1px rgba(0, 0, 0, 0.15);\n",
              "      filter: drop-shadow(0px 1px 2px rgba(0, 0, 0, 0.3));\n",
              "      fill: #FFFFFF;\n",
              "    }\n",
              "  </style>\n",
              "\n",
              "      <script>\n",
              "        const buttonEl =\n",
              "          document.querySelector('#df-c42d83c8-0006-4e69-8eac-8d2d65629dce button.colab-df-convert');\n",
              "        buttonEl.style.display =\n",
              "          google.colab.kernel.accessAllowed ? 'block' : 'none';\n",
              "\n",
              "        async function convertToInteractive(key) {\n",
              "          const element = document.querySelector('#df-c42d83c8-0006-4e69-8eac-8d2d65629dce');\n",
              "          const dataTable =\n",
              "            await google.colab.kernel.invokeFunction('convertToInteractive',\n",
              "                                                     [key], {});\n",
              "          if (!dataTable) return;\n",
              "\n",
              "          const docLinkHtml = 'Like what you see? Visit the ' +\n",
              "            '<a target=\"_blank\" href=https://colab.research.google.com/notebooks/data_table.ipynb>data table notebook</a>'\n",
              "            + ' to learn more about interactive tables.';\n",
              "          element.innerHTML = '';\n",
              "          dataTable['output_type'] = 'display_data';\n",
              "          await google.colab.output.renderOutput(dataTable, element);\n",
              "          const docLink = document.createElement('div');\n",
              "          docLink.innerHTML = docLinkHtml;\n",
              "          element.appendChild(docLink);\n",
              "        }\n",
              "      </script>\n",
              "    </div>\n",
              "  </div>\n",
              "  "
            ]
          },
          "metadata": {},
          "execution_count": 22
        }
      ]
    },
    {
      "cell_type": "markdown",
      "source": [
        "# Punto 4\n",
        "Para las variables aleatorias, xi y yi con i = 1,2, ... , N; demuestre que el vector de\n",
        "coeficientes β del modelo lineal y = β̂TX + ε, obtenido a partir de la estimación por MCO,\n",
        "viene dado por:\n",
        "\n",
        "β̂ = Q\n",
        "−1b = (X\n",
        "TX)\n",
        "−1X\n",
        "Ty (4.1)\n",
        "\n",
        "Donde: X es la matrix N × m, con m variables explicativas. Además, Q = (X\n",
        "TX)\n",
        "−1 y b = X\n",
        "Ty.\n",
        "Tener en cuenta que el problema MCO anterior, se puede formular como un problema de\n",
        "programación cuadrática (QP) sin restricciones:\n",
        "\n",
        "min\n",
        "β\n",
        "0.5 β\n",
        "TQβ − b\n",
        "Tβ (4.2)\n",
        "\n",
        "O de forma equivalente:\n",
        "\n",
        "min\n",
        "β\n",
        "∑ (β\n",
        "Txi − yi\n",
        ")\n",
        "N 2\n",
        "i=1\n",
        "\n",
        "(4.3)\n",
        "\n",
        "Nota: Para probar la expresión 4.1 puede seleccionar un activo y un conjunto de factores.\n",
        "Implemente el problema usando Linprog."
      ],
      "metadata": {
        "id": "NlF_syJdghyr"
      }
    },
    {
      "cell_type": "code",
      "source": [],
      "metadata": {
        "id": "kCMupI0phM9B"
      },
      "execution_count": null,
      "outputs": []
    },
    {
      "cell_type": "markdown",
      "source": [
        "# Punto 5\n",
        "Un fondo de pensiones necesita cubrir algunos pasivos en los próximos seis años según\n",
        "los siguientes requerimientos de efectivo (cifras en millones $):\n",
        "\n",
        "1 2 3 4 5 6\n",
        "Requerimiento 100 200 800 100 800 1200\n",
        "\n",
        "Además, asuma que el fondo de pensiones puede invertir en diez bonos del gobierno con\n",
        "los flujos de efectivo y los precios actuales como se muestra a continuación:\n",
        "\n",
        "Años\n",
        "\n",
        "1 2 3 4 5 6 Precio\n",
        "Bono 1 10 10 10 10 10 110 109\n",
        "Bono 2 7 7 7 7 7 107 94.8\n",
        "Bono 3 8 8 8 8 8 108 99.5\n",
        "Bono 4 6 6 6 6 106 93.1\n",
        "Bono 5 7 7 7 7 107 97.2\n",
        "Bono 6 5 5 5 105 92.9\n",
        "Bono 7 10 10 110 110\n",
        "Bono 8 8 8 108 104\n",
        "Bono 9 7 107 102\n",
        "Bono 10 100 95.2\n",
        "\n",
        "Encuentre el portafolio de bonos menos costoso cuyos flujos de efectivo serán suficientes\n",
        "para cubrir los requerimientos de efectivo del fondo. Además, asuma que el excedente de\n",
        "efectivo puede transferirse de un año al siguiente sin generar intereses. Formule y resuelva\n",
        "problema LP.\n",
        "Nota: tener en cuenta las variables de holgura en su formulación. Implemente el problema\n",
        "usando Linprog o CVX."
      ],
      "metadata": {
        "id": "aKYHxx-dhNlu"
      }
    },
    {
      "cell_type": "code",
      "source": [],
      "metadata": {
        "id": "8L4B611jhV3V"
      },
      "execution_count": null,
      "outputs": []
    }
  ]
}